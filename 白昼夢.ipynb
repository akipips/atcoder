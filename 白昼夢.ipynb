{
  "nbformat": 4,
  "nbformat_minor": 0,
  "metadata": {
    "colab": {
      "name": "白昼夢.ipynb",
      "provenance": [],
      "authorship_tag": "ABX9TyPqLlaljLl3DKO/Vg/uZQFL",
      "include_colab_link": true
    },
    "kernelspec": {
      "name": "python3",
      "display_name": "Python 3"
    }
  },
  "cells": [
    {
      "cell_type": "markdown",
      "metadata": {
        "id": "view-in-github",
        "colab_type": "text"
      },
      "source": [
        "<a href=\"https://colab.research.google.com/github/akipips/atcoder/blob/master/%E7%99%BD%E6%98%BC%E5%A4%A2.ipynb\" target=\"_parent\"><img src=\"https://colab.research.google.com/assets/colab-badge.svg\" alt=\"Open In Colab\"/></a>"
      ]
    },
    {
      "cell_type": "markdown",
      "metadata": {
        "id": "DQQtKiuqz98L",
        "colab_type": "text"
      },
      "source": [
        "##問題文\n",
        "英小文字からなる文字列 **S**が与えられます。 \n",
        "**T**が空文字列である状態から始め、以下の操作を好きな回数繰り返すことで \n",
        "                    **S=T**\n",
        " とすることができるか判定してください。\n",
        "\n",
        "**T**の末尾に dream dreamer erase eraser のいずれかを追加する。\n",
        "\n",
        "###制約\n",
        "* 1≦|S|≦10<sup>5</sup>\n",
        "\n",
        "\n",
        "* **S**は英小文字からなる。\n",
        "\n",
        "###入力\n",
        "入力は以下の形式で標準入力から与えられる。\n",
        "```\n",
        "S\n",
        "```\n",
        "###出力\n",
        "**S=T**とすることができる場合 YES を、そうでない場合 NO を出力せよ。\n",
        "\n",
        "####入力例1\n",
        "```\n",
        "erasedream\n",
        "```\n",
        "\n",
        "####出力例1\n",
        "```\n",
        "YES\n",
        "```\n",
        "erase dream の順で **T**\n",
        " の末尾に追加することで \n",
        "**S=T**とすることができます。"
      ]
    },
    {
      "cell_type": "code",
      "metadata": {
        "id": "uTu8nNp62HV4",
        "colab_type": "code",
        "colab": {
          "base_uri": "https://localhost:8080/",
          "height": 35
        },
        "outputId": "9f41fd35-320f-4149-e465-0867b97cc01b"
      },
      "source": [
        "S=input()\n"
      ],
      "execution_count": 4,
      "outputs": [
        {
          "output_type": "stream",
          "text": [
            "erasedream\n"
          ],
          "name": "stdout"
        }
      ]
    },
    {
      "cell_type": "markdown",
      "metadata": {
        "id": "HrGZz4kIb5VQ",
        "colab_type": "text"
      },
      "source": [
        "##解法１\n",
        "該当文字を削除していきｓの長さが０になればYESを出力"
      ]
    },
    {
      "cell_type": "code",
      "metadata": {
        "id": "r8ZRQF8w2O64",
        "colab_type": "code",
        "colab": {
          "base_uri": "https://localhost:8080/",
          "height": 35
        },
        "outputId": "5689748e-4e83-49a8-ee76-b91d34fa26cf"
      },
      "source": [
        "S=S.replace(\"eraser\",\"\").replace(\"erase\",\"\").replace(\"dreamer\",\"\").replace(\"dream\",\"\")\n",
        "print(\"YES\" if len(S)==0 else \"NO\")"
      ],
      "execution_count": 6,
      "outputs": [
        {
          "output_type": "stream",
          "text": [
            "YES\n"
          ],
          "name": "stdout"
        }
      ]
    },
    {
      "cell_type": "markdown",
      "metadata": {
        "id": "PLZXYS0IdrTj",
        "colab_type": "text"
      },
      "source": [
        "結果:27ms\n",
        "\n",
        "見たところこれが最速ぽい。"
      ]
    }
  ]
}