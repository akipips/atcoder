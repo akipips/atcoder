{
  "nbformat": 4,
  "nbformat_minor": 0,
  "metadata": {
    "colab": {
      "name": "Card Game for Two.ipynb",
      "provenance": [],
      "authorship_tag": "ABX9TyPGOPXiUjj4N/CdxyVJny5Q",
      "include_colab_link": true
    },
    "kernelspec": {
      "name": "python3",
      "display_name": "Python 3"
    }
  },
  "cells": [
    {
      "cell_type": "markdown",
      "metadata": {
        "id": "view-in-github",
        "colab_type": "text"
      },
      "source": [
        "<a href=\"https://colab.research.google.com/github/akipips/atcoder/blob/master/Card_Game_for_Two.ipynb\" target=\"_parent\"><img src=\"https://colab.research.google.com/assets/colab-badge.svg\" alt=\"Open In Colab\"/></a>"
      ]
    },
    {
      "cell_type": "markdown",
      "metadata": {
        "id": "dj1QfpcisxbM",
        "colab_type": "text"
      },
      "source": [
        "##問題文\n",
        "N枚のカードがあります. \n",
        "i\n",
        " 枚目のカードには, \n",
        "a<sub>i</sub>という数が書かれています.\n",
        "**Alice** と **Bob** は, これらのカードを使ってゲームを行います. ゲームでは, Alice と Bob が交互に 1 枚ずつカードを取っていきます. Alice が先にカードを取ります.\n",
        "2 人がすべてのカードを取ったときゲームは終了し, 取ったカードの数の合計がその人の得点になります. 2 人とも自分の得点を最大化するように最適な戦略を取った時, Alice は Bob より何点多く取るか求めてください.\n",
        "\n",
        "##制約\n",
        ">1: N は 1 以上 100 以下の整数 \n",
        "\n",
        ">2:a <sub>i</sub>( 1 ≤ i ≤ N )は 1 以上 100以下の整数\n",
        "\n",
        "##入力\n",
        "入力は以下の形式で標準入力から与えられる.\n",
        "```\n",
        "N\n",
        "\n",
        "a1 a2 ... aN\n",
        "```\n",
        "\n",
        "###入出力例\n",
        "```\n",
        "2\n",
        "\n",
        "3 1\n",
        "\n",
        ">>2\n",
        "```\n",
        "最初, Alice は 3 が書かれたカードを取ります. 次に, Bob は 1 が書かれたカードを取ります. 得点差は 3 - 1 = 2 となります。\n",
        "\n"
      ]
    },
    {
      "cell_type": "markdown",
      "metadata": {
        "id": "EMe_aYyPupqf",
        "colab_type": "text"
      },
      "source": [
        "##解法1\n",
        "\n",
        "sortして交互にその数を足していく。2人の合計がでたところで差を計算"
      ]
    },
    {
      "cell_type": "code",
      "metadata": {
        "id": "UaonGkPHv9BC",
        "colab_type": "code",
        "colab": {
          "base_uri": "https://localhost:8080/",
          "height": 53
        },
        "outputId": "3d617a1c-e031-4812-c6fa-fcaaef29cd37"
      },
      "source": [
        "N = int(input())\n",
        "list_ai=list(map(int,input().strip().split()))"
      ],
      "execution_count": 1,
      "outputs": [
        {
          "output_type": "stream",
          "text": [
            "6\n",
            "20 40 50 30 10 25\n"
          ],
          "name": "stdout"
        }
      ]
    },
    {
      "cell_type": "code",
      "metadata": {
        "id": "ryJwSPcZwwFK",
        "colab_type": "code",
        "colab": {
          "base_uri": "https://localhost:8080/",
          "height": 161
        },
        "outputId": "040f6341-70fd-4b32-cdac-66360bb975d2"
      },
      "source": [
        "A_sum=0\n",
        "B_sum=0\n",
        "\n",
        "sorted_list_ai = sorted(list_ai)\n",
        "#print(sorted_list_ai)\n",
        "while sorted_list_ai!=[]:\n",
        "  A_sum+=sorted_list_ai.pop()\n",
        "  #print(A_sum)\n",
        "  if sorted_list_ai!=[]:\n",
        "    B_sum+=sorted_list_ai.pop()\n",
        "    #print(B_sum)\n",
        "print(A_sum-B_sum)\n"
      ],
      "execution_count": 5,
      "outputs": [
        {
          "output_type": "stream",
          "text": [
            "[10, 20, 25, 30, 40, 50]\n",
            "50\n",
            "40\n",
            "80\n",
            "65\n",
            "100\n",
            "75\n",
            "25\n"
          ],
          "name": "stdout"
        }
      ]
    },
    {
      "cell_type": "markdown",
      "metadata": {
        "id": "Pj8RwRPtAXKs",
        "colab_type": "text"
      },
      "source": [
        "結果：26 ms\n",
        "\n",
        "pop()は先頭を指定すると壊滅的に遅くなる。よって末尾をpopするようにしたほうが良い。\n",
        "\n",
        "##>解法2\n",
        "\n",
        "ソート済み配列の偶数番奇数番の差を計上していく。"
      ]
    },
    {
      "cell_type": "code",
      "metadata": {
        "id": "Y-LskAPvCZUU",
        "colab_type": "code",
        "colab": {
          "base_uri": "https://localhost:8080/",
          "height": 35
        },
        "outputId": "e2c3cb51-8bf5-4c15-d196-e8d736f2b8c4"
      },
      "source": [
        "sorted_list_ai = sorted(list_ai,reverse=True)\n",
        "#print(sorted_list_ai)\n",
        "if N%2==1:\n",
        "  sorted_list_ai.append(0)#要素が奇数個だった場合末尾に０を追加\n",
        "\n",
        "sa=0\n",
        "l=int(len(sorted_list_ai)/2)\n",
        "for i in range(l):\n",
        "  sa+=sorted_list_ai[2*i]-sorted_list_ai[2*i+1]\n",
        "\n",
        "print(sa)"
      ],
      "execution_count": 10,
      "outputs": [
        {
          "output_type": "stream",
          "text": [
            "25\n"
          ],
          "name": "stdout"
        }
      ]
    },
    {
      "cell_type": "markdown",
      "metadata": {
        "id": "HxuuaNHJCjRT",
        "colab_type": "text"
      },
      "source": [
        "結果:24 ms\n",
        "思ったより早かった。個人的にはpop使った方が早いのではと思っていたんだけどな。\n",
        "入力がどうなってるかわからないけど。\n"
      ]
    },
    {
      "cell_type": "code",
      "metadata": {
        "id": "JZefY85OF6Bp",
        "colab_type": "code",
        "colab": {}
      },
      "source": [
        ""
      ],
      "execution_count": null,
      "outputs": []
    }
  ]
}