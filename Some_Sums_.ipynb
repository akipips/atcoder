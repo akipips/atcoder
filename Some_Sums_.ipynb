{
  "nbformat": 4,
  "nbformat_minor": 0,
  "metadata": {
    "colab": {
      "name": "Some Sums .ipynb",
      "provenance": []
    },
    "kernelspec": {
      "name": "python3",
      "display_name": "Python 3"
    }
  },
  "cells": [
    {
      "cell_type": "markdown",
      "metadata": {
        "id": "LUv_W1pddPAm",
        "colab_type": "text"
      },
      "source": [
        "##・問題文\n",
        "1\n",
        " 以上 \n",
        "N\n",
        " 以下の整数のうち、\n",
        "10\n",
        " 進法での各桁の和が \n",
        "A\n",
        " 以上 \n",
        "B\n",
        " 以下であるものの総和を求めてください。\n",
        "\n",
        "##・制約\n",
        "1≤N≤10^4\n",
        "\n",
        "1≤A≤B≤36\n",
        "\n",
        "\n",
        "入力はすべて整数である\n",
        "\n",
        "##・入力\n",
        "\n",
        "N　A　B\n",
        "\n",
        "##・入力例\n",
        "20 2 5\n",
        "\n",
        "##・出力例\n",
        "84\n",
        "\n"
      ]
    },
    {
      "cell_type": "code",
      "metadata": {
        "id": "F-Hv2dx5iRQ_",
        "colab_type": "code",
        "colab": {
          "base_uri": "https://localhost:8080/",
          "height": 35
        },
        "outputId": "2ad4971b-376f-4b0a-efa9-a50434fb9322"
      },
      "source": [
        "N,A,B,=map(int,input().split())\n"
      ],
      "execution_count": 19,
      "outputs": [
        {
          "output_type": "stream",
          "text": [
            "20 2 5\n"
          ],
          "name": "stdout"
        }
      ]
    },
    {
      "cell_type": "markdown",
      "metadata": {
        "id": "0OrEPtBvGihX",
        "colab_type": "text"
      },
      "source": [
        "##解法１\n",
        "\n",
        "まず最初に思いついたのが以下。**１**から**N**までの数`s`を`str()`で文字型に直し各桁の数をリスト`each_number_list`に入れる。そのリストの合計をpythonの組み込み関数を用いて計算。そして合計が条件に合う時だけ`s`を`total`に加えていく。\n",
        "\n",
        "まあだれもが真っ先に思いつきそうなやり方だ。"
      ]
    },
    {
      "cell_type": "code",
      "metadata": {
        "id": "_j9rrwEkBgPh",
        "colab_type": "code",
        "colab": {
          "base_uri": "https://localhost:8080/",
          "height": 35
        },
        "outputId": "2e1af581-23cf-4204-d296-66fec03b37dc"
      },
      "source": [
        "total=0\n",
        "for i in range(1,N+1):\n",
        "  s=str(i)\n",
        "  each_number_list = list(map(int, s))\n",
        "  sum_of_list=sum(each_number_list)\n",
        "  if A<=sum_of_list<=B:\n",
        "    total=total+i \n",
        "print(total)  \n",
        "\n"
      ],
      "execution_count": 22,
      "outputs": [
        {
          "output_type": "stream",
          "text": [
            "84\n"
          ],
          "name": "stdout"
        }
      ]
    },
    {
      "cell_type": "markdown",
      "metadata": {
        "id": "aLGn5rPMFll0",
        "colab_type": "text"
      },
      "source": [
        "結果：41ms\n",
        "\n",
        "注意:`list(map(int, str(s)))`と書いたら**RE**がでた。上のように分けたほうが良い。"
      ]
    },
    {
      "cell_type": "code",
      "metadata": {
        "id": "MR_s9n7dRbcH",
        "colab_type": "code",
        "colab": {}
      },
      "source": [
        ""
      ],
      "execution_count": null,
      "outputs": []
    }
  ]
}