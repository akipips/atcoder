{
  "nbformat": 4,
  "nbformat_minor": 0,
  "metadata": {
    "colab": {
      "name": "Kagami Mochi.ipynb",
      "provenance": [],
      "collapsed_sections": [],
      "authorship_tag": "ABX9TyOSOzU9a14PxoQWRPyOmUvK",
      "include_colab_link": true
    },
    "kernelspec": {
      "name": "python3",
      "display_name": "Python 3"
    }
  },
  "cells": [
    {
      "cell_type": "markdown",
      "metadata": {
        "id": "view-in-github",
        "colab_type": "text"
      },
      "source": [
        "<a href=\"https://colab.research.google.com/github/akipips/atcoder/blob/master/Kagami_Mochi.ipynb\" target=\"_parent\"><img src=\"https://colab.research.google.com/assets/colab-badge.svg\" alt=\"Open In Colab\"/></a>"
      ]
    },
    {
      "cell_type": "markdown",
      "metadata": {
        "id": "VdbP5wkY1Dbz",
        "colab_type": "text"
      },
      "source": [
        "##問題文\n",
        "X 段重ねの鏡餅 ( X ≥ 1 ) とは、 X 枚の円形の餅を縦に積み重ねたものであって、どの餅もその真下の餅より直径が小さい（一番下の餅を除く）もののことです。例えば、直径 10 、 8 、 6 センチメートルの餅をこの順に下から積み重ねると 3 段重ねの鏡餅になり、餅を一枚だけ置くと 1 段重ねの鏡餅になります。\n",
        "\n",
        "ダックスフンドのルンルンは N 枚の円形の餅を持っていて、そのうち i 枚目の餅の直径は d <sub>i</sub> センチメートルです。これらの餅のうち一部または全部を使って鏡餅を作るとき、最大で何段重ねの鏡餅を作ることができるでしょうか。\n",
        "\n",
        "##制約 \n",
        "1 ≤ N ≤ 100 \n",
        "\n",
        "1 ≤ d<sub>i</sub> ≤ 100 \n",
        "\n",
        "入力値はすべて整数である。\n",
        "\n",
        "##入力\n",
        "入力は以下の形式で標準入力から与えられる。\n",
        "```\n",
        "N\n",
        " \n",
        "d1\n",
        "\n",
        ":\n",
        "\n",
        "dN\n",
        "```\n",
        "##出力\n",
        "作ることのできる鏡餅の最大の段数を出力せよ。\n",
        "\n",
        "###入力例 1\n",
        "```\n",
        "4\n",
        "10\n",
        "8\n",
        "8\n",
        "6\n",
        "```\n",
        "###出力例\n",
        "```\n",
        "3\n",
        "```"
      ]
    },
    {
      "cell_type": "markdown",
      "metadata": {
        "id": "8czPaiN_3FsZ",
        "colab_type": "text"
      },
      "source": [
        "##解法１\n",
        "\n"
      ]
    },
    {
      "cell_type": "code",
      "metadata": {
        "id": "LXGWOXyu1A7l",
        "colab_type": "code",
        "colab": {
          "base_uri": "https://localhost:8080/",
          "height": 107
        },
        "outputId": "2dfbe97b-8831-43de-fcff-706196c1751f"
      },
      "source": [
        "N = int(input())\n",
        "list_moti\n",
        "for i in range(N):\n",
        "    list_moti.append(int(input()))\n"
      ],
      "execution_count": 4,
      "outputs": [
        {
          "output_type": "stream",
          "text": [
            "4\n",
            "10\n",
            "8\n",
            "8\n",
            "6\n"
          ],
          "name": "stdout"
        }
      ]
    },
    {
      "cell_type": "markdown",
      "metadata": {
        "id": "aS5Vxeim6fkj",
        "colab_type": "text"
      },
      "source": [
        "##解法１\n",
        "もちの集合の要素数を返す。シンプル。"
      ]
    },
    {
      "cell_type": "code",
      "metadata": {
        "id": "AXmHluJy4GRR",
        "colab_type": "code",
        "colab": {
          "base_uri": "https://localhost:8080/",
          "height": 35
        },
        "outputId": "131de2aa-6e8b-407d-db93-e7ddcf949db3"
      },
      "source": [
        "set_moti=set(list_moti)\n",
        "print(len(set_moti))"
      ],
      "execution_count": 5,
      "outputs": [
        {
          "output_type": "stream",
          "text": [
            "3\n"
          ],
          "name": "stdout"
        }
      ]
    },
    {
      "cell_type": "markdown",
      "metadata": {
        "id": "DfWFkpZm63L2",
        "colab_type": "text"
      },
      "source": [
        "結果:27ms"
      ]
    },
    {
      "cell_type": "markdown",
      "metadata": {
        "id": "ceM7UDxl7thS",
        "colab_type": "text"
      },
      "source": [
        "##解法２\n",
        "辞書に追加していって、辞書の長さを返す。\n"
      ]
    },
    {
      "cell_type": "code",
      "metadata": {
        "id": "eGkgksbY4rvy",
        "colab_type": "code",
        "colab": {}
      },
      "source": [
        "N = int(input())\n",
        "dict_moti = {}\n",
        "for _ in range(N):#変数名を「_」にすることによって、「その変数を使っていません」ということを表現しています（Pythonの習慣です）。\n",
        "\tdict_moti[int(input())] = 1\t\n",
        "print(len(dict_moti))"
      ],
      "execution_count": null,
      "outputs": []
    },
    {
      "cell_type": "markdown",
      "metadata": {
        "id": "v4czI9eh8ceB",
        "colab_type": "text"
      },
      "source": [
        "結果：２２ms\n",
        "\n",
        "速い！"
      ]
    }
  ]
}